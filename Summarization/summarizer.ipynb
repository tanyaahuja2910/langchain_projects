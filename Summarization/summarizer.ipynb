{
 "cells": [
  {
   "cell_type": "markdown",
   "id": "8286646c-17dd-46a3-816a-bc6b9e0db456",
   "metadata": {},
   "source": [
    "## SUMMARIZATION LANGCHAIN : \n",
    "Summarization is a key component of many tasks involving large language models (LLMs). It enables the distillation of extensive text into a concise and meaningful set of points. Whether dealing with a brief document or an entire book, choosing the right summarization approach depends on the text's length and complexity.\n",
    "\n",
    "Here are five approaches to summarization, ranging from beginner-friendly methods to more advanced techniques. While these aren't exhaustive, they offer a strong starting point. If you come across a unique approach that works well, consider sharing it with the broader community!\n",
    "\n",
    "### Differentways of Summarization in Langchain\n",
    "1. #### Summarizing a Few Sentences – Basic Prompts :\n",
    "    - Use straightforward prompts to condense short passages into clear summaries. This is ideal for quick insights or simple tasks.\n",
    "2. #### Summarizing a Few Paragraphs – Prompt Templates :\n",
    "    - Employ structured prompt templates that guide the LLM to extract key points from multiple paragraphs. This approach is great for slightly larger texts that require thematic organization.\n",
    "3. #### Summarizing a Few Pages – Map-Reduce :\n",
    "    - Break the text into chunks and summarize each individually (the \"map\" step), then combine those summaries into a cohesive output (the \"reduce\" step). This method excels when summarizing medium-length documents like reports or articles.\n",
    "4. #### Refine chain summarizer :\n",
    "    - A chain for refining summaries by processing each document in stages.\n",
    "    - Similar to map reduce with one key difference : with every chunk, it passes the summary of previous chunk as well to the llm\n",
    "5. #### Summarizing Text of Unknown Length – Agents :   TBD\n",
    "    - Leverage intelligent agents that dynamically adjust their approach based on the input's length and complexity. Agents can handle diverse text sizes, making them the most versatile option for summarization."
   ]
  },
  {
   "cell_type": "code",
   "execution_count": 79,
   "id": "bc16283a-5b8a-481e-9dd1-cc35133ba470",
   "metadata": {},
   "outputs": [],
   "source": [
    "import os\n",
    "from dotenv import load_dotenv\n",
    "load_dotenv()\n",
    "\n",
    "\n",
    "os.environ['OPENAI_API_KEY'] = os.getenv('OPENAI_API_KEY')"
   ]
  },
  {
   "cell_type": "markdown",
   "id": "c9f5bb8d-cd30-4b0e-8cd1-adb048efbe96",
   "metadata": {},
   "source": [
    "## Basic Prompt Summarization \n",
    "##### used in chat models  - conversational chatbots with system message, human message , ai message"
   ]
  },
  {
   "cell_type": "code",
   "execution_count": 80,
   "id": "e74a9715-c8bb-47a2-b162-f150643b49dd",
   "metadata": {},
   "outputs": [],
   "source": [
    "from langchain_openai import ChatOpenAI\n",
    "from langchain.prompts.chat import (ChatPromptTemplate,\n",
    "    SystemMessagePromptTemplate,\n",
    "    HumanMessagePromptTemplate,\n",
    ")"
   ]
  },
  {
   "cell_type": "code",
   "execution_count": 13,
   "id": "1137adae-4fec-43c6-b002-efb128052af4",
   "metadata": {},
   "outputs": [],
   "source": [
    "speech=\"\"\"\n",
    "People across the country, involved in government, political, and social activities, are dedicating their time to make the ‘Viksit Bharat Sankalp Yatra’ (Developed India Resolution Journey) successful. Therefore, as a Member of Parliament, it was my responsibility to also contribute my time to this program. So, today, I have come here just as a Member of Parliament and your ‘sevak’, ready to participate in this program, much like you.\n",
    "\n",
    "In our country, governments have come and gone, numerous schemes have been formulated, discussions have taken place, and big promises have been made. However, my experience and observations led me to believe that the most critical aspect that requires attention is ensuring that the government’s plans reach the intended beneficiaries without any hassles. If there is a ‘Pradhan Mantri Awas Yojana’ (Prime Minister’s housing scheme), then those who are living in jhuggis and slums should get their houses. And he should not need to make rounds of the government offices for this purpose. The government should reach him. Since you have assigned this responsibility to me, about four crore families have got their ‘pucca’ houses. However, I have encountered cases where someone is left out of the government benefits. Therefore, I have decided to tour the country again, to listen to people’s experiences with government schemes, to understand whether they received the intended benefits, and to ensure that the programs are reaching everyone as planned without paying any bribes. We will get the real picture if we visit them again. Therefore, this ‘Viksit Bharat Sankalp Yatra’ is, in a way, my own examination. I want to hear from you and the people across the country whether what I envisioned and the work I have been doing aligns with reality and whether it has reached those for whom it was meant.\n",
    "\n",
    "It is crucial to check whether the work that was supposed to happen has indeed taken place. I recently met some individuals who utilized the Ayushman card to get treatment for serious illnesses. One person met with a severe accident, and after using the card, he could afford the necessary operation, and now he is recovering well. When I asked him, he said: “How could I afford this treatment? Now that there is the Ayushman card, I mustered courage and underwent an operation. Now I am perfectly fine.”  Such stories are blessings to me.\n",
    "\n",
    "The bureaucrats, who prepare good schemes, expedite the paperwork and even allocate funds, also feel satisfied that 50 or 100 people who were supposed to get the funds have got it. The funds meant for a thousand villages have been released. But their job satisfaction peaks when they hear that their work has directly impacted someone’s life positively. When they see the tangible results of their efforts, their enthusiasm multiplies. They feel satisfied. Therefore, ‘Viksit Bharat Sankalp Yatra’ has had a positive impact on government officers. It has made them more enthusiastic about their work, especially when they witness the tangible benefits reaching the people. Officers now feel satisfied with their work, saying, “I made a good plan, I created a file, and the intended beneficiaries received the benefits.” When they find that the money has reached a poor widow under the Jeevan Jyoti scheme and it was a great help to her during her crisis, they realise that they have done a good job. When a government officer listens to such stories, he feels very satisfied.\n",
    "\n",
    "There are very few who understand the power and impact of the ‘Viksit Bharat Sankalp Yatra’. When I hear people connected to bureaucratic circles talking about it, expressing their satisfaction, it resonates with me. I’ve heard stories where someone suddenly received 2 lakh rupees after the death of her husband, and a sister mentioned how the arrival of gas in her home transformed her lives. The most significant aspect is when someone says that the line between rich and poor has vanished. While the slogan ‘Garibi Hatao’ (Remove Poverty) is one thing, but the real change happens when a person says, “As soon as the gas stove came to my house, the distinction between poverty and affluence disappeared.\n",
    "\"\"\""
   ]
  },
  {
   "cell_type": "code",
   "execution_count": 14,
   "id": "a196f6cc-a794-4a0d-a4d6-6fe8fc6addd4",
   "metadata": {},
   "outputs": [],
   "source": [
    "llm=ChatOpenAI(model_name='gpt-3.5-turbo')\n",
    "\n",
    "# Create the ChatPromptTemplate using individual message templates\n",
    "chat_prompt = ChatPromptTemplate.from_messages(\n",
    "    [\n",
    "        SystemMessagePromptTemplate.from_template(\"You are an expert assistant with expertise in summarizing speeches.\"),\n",
    "        HumanMessagePromptTemplate.from_template(\"Please provide a short and concise summary of the following speech:\\nTEXT: {speech}\"),\n",
    "    ]\n",
    ")"
   ]
  },
  {
   "cell_type": "code",
   "execution_count": 15,
   "id": "2e8b4da9-be32-4866-bad3-3a307b3f9a21",
   "metadata": {},
   "outputs": [
    {
     "data": {
      "text/plain": [
       "866"
      ]
     },
     "execution_count": 15,
     "metadata": {},
     "output_type": "execute_result"
    }
   ],
   "source": [
    "##total tokens\n",
    "llm.get_num_tokens(speech)\n"
   ]
  },
  {
   "cell_type": "code",
   "execution_count": 16,
   "id": "bebb5904-dc51-4603-8970-0e00d1d8c710",
   "metadata": {},
   "outputs": [
    {
     "name": "stderr",
     "output_type": "stream",
     "text": [
      "/var/folders/kv/pnjkz5190xl7s5h7v0h_vjb40000gn/T/ipykernel_41931/866116153.py:5: LangChainDeprecationWarning: The method `BaseChatModel.__call__` was deprecated in langchain-core 0.1.7 and will be removed in 1.0. Use :meth:`~invoke` instead.\n",
      "  response = llm(messages=formatted_prompt.to_messages())\n"
     ]
    },
    {
     "name": "stdout",
     "output_type": "stream",
     "text": [
      "The speech highlights the importance of ensuring government schemes reach their intended beneficiaries smoothly without any hassles. The speaker, a Member of Parliament, discusses the success of the 'Viksit Bharat Sankalp Yatra' in reaching people and providing tangible benefits. The yatra has positively impacted government officers, making them more enthusiastic about their work when they see the direct impact on people's lives. The speaker emphasizes the satisfaction derived from witnessing successful implementation of schemes, such as the Ayushman card and housing programs, and how it bridges the gap between rich and poor. The yatra serves as an examination for the speaker to ensure alignment between their vision and the reality of reaching those in need.\n"
     ]
    }
   ],
   "source": [
    "## Get summary\n",
    "formatted_prompt = chat_prompt.format_prompt(speech=speech)\n",
    "\n",
    "# Get the response\n",
    "response = llm(messages=formatted_prompt.to_messages())\n",
    "print(response.content)"
   ]
  },
  {
   "cell_type": "markdown",
   "id": "8f555833-6dc6-4b98-adae-ef563d43439a",
   "metadata": {},
   "source": [
    "## Prompt template text summarization\n",
    "Prompt templates offer a flexible way to incorporate text dynamically into your prompts. Similar to Python's f-strings, they are specifically designed to facilitate interaction with language models."
   ]
  },
  {
   "cell_type": "code",
   "execution_count": 17,
   "id": "36a3bcc0-86b8-4390-a4e1-ff1e0a81e783",
   "metadata": {},
   "outputs": [],
   "source": [
    "from langchain.chains import LLMChain\n",
    "from langchain import PromptTemplate"
   ]
  },
  {
   "cell_type": "code",
   "execution_count": 18,
   "id": "d259c133-98c1-42b8-b27a-c18483a30fec",
   "metadata": {},
   "outputs": [],
   "source": [
    "generic_template='''\n",
    "Write a summary of the following speech:\n",
    "Speech : `{speech}`\n",
    "Translate the precise summary to {language}.\n",
    "\n",
    "'''\n",
    "prompt=PromptTemplate(\n",
    "    input_variables=['speech','language'],\n",
    "    template=generic_template\n",
    ")"
   ]
  },
  {
   "cell_type": "code",
   "execution_count": 19,
   "id": "2bc1fb36-9b1b-4e8a-af08-9111f99d1ef2",
   "metadata": {
    "scrolled": true
   },
   "outputs": [
    {
     "data": {
      "text/plain": [
       "'\\nWrite a summary of the following speech:\\nSpeech : `\\nPeople across the country, involved in government, political, and social activities, are dedicating their time to make the ‘Viksit Bharat Sankalp Yatra’ (Developed India Resolution Journey) successful. Therefore, as a Member of Parliament, it was my responsibility to also contribute my time to this program. So, today, I have come here just as a Member of Parliament and your ‘sevak’, ready to participate in this program, much like you.\\n\\nIn our country, governments have come and gone, numerous schemes have been formulated, discussions have taken place, and big promises have been made. However, my experience and observations led me to believe that the most critical aspect that requires attention is ensuring that the government’s plans reach the intended beneficiaries without any hassles. If there is a ‘Pradhan Mantri Awas Yojana’ (Prime Minister’s housing scheme), then those who are living in jhuggis and slums should get their houses. And he should not need to make rounds of the government offices for this purpose. The government should reach him. Since you have assigned this responsibility to me, about four crore families have got their ‘pucca’ houses. However, I have encountered cases where someone is left out of the government benefits. Therefore, I have decided to tour the country again, to listen to people’s experiences with government schemes, to understand whether they received the intended benefits, and to ensure that the programs are reaching everyone as planned without paying any bribes. We will get the real picture if we visit them again. Therefore, this ‘Viksit Bharat Sankalp Yatra’ is, in a way, my own examination. I want to hear from you and the people across the country whether what I envisioned and the work I have been doing aligns with reality and whether it has reached those for whom it was meant.\\n\\nIt is crucial to check whether the work that was supposed to happen has indeed taken place. I recently met some individuals who utilized the Ayushman card to get treatment for serious illnesses. One person met with a severe accident, and after using the card, he could afford the necessary operation, and now he is recovering well. When I asked him, he said: “How could I afford this treatment? Now that there is the Ayushman card, I mustered courage and underwent an operation. Now I am perfectly fine.”  Such stories are blessings to me.\\n\\nThe bureaucrats, who prepare good schemes, expedite the paperwork and even allocate funds, also feel satisfied that 50 or 100 people who were supposed to get the funds have got it. The funds meant for a thousand villages have been released. But their job satisfaction peaks when they hear that their work has directly impacted someone’s life positively. When they see the tangible results of their efforts, their enthusiasm multiplies. They feel satisfied. Therefore, ‘Viksit Bharat Sankalp Yatra’ has had a positive impact on government officers. It has made them more enthusiastic about their work, especially when they witness the tangible benefits reaching the people. Officers now feel satisfied with their work, saying, “I made a good plan, I created a file, and the intended beneficiaries received the benefits.” When they find that the money has reached a poor widow under the Jeevan Jyoti scheme and it was a great help to her during her crisis, they realise that they have done a good job. When a government officer listens to such stories, he feels very satisfied.\\n\\nThere are very few who understand the power and impact of the ‘Viksit Bharat Sankalp Yatra’. When I hear people connected to bureaucratic circles talking about it, expressing their satisfaction, it resonates with me. I’ve heard stories where someone suddenly received 2 lakh rupees after the death of her husband, and a sister mentioned how the arrival of gas in her home transformed her lives. The most significant aspect is when someone says that the line between rich and poor has vanished. While the slogan ‘Garibi Hatao’ (Remove Poverty) is one thing, but the real change happens when a person says, “As soon as the gas stove came to my house, the distinction between poverty and affluence disappeared.\\n`\\nTranslate the precise summary to Hindi.\\n\\n'"
      ]
     },
     "execution_count": 19,
     "metadata": {},
     "output_type": "execute_result"
    }
   ],
   "source": [
    "complete_prompt=prompt.format(speech=speech,language='Hindi')\n",
    "complete_prompt"
   ]
  },
  {
   "cell_type": "code",
   "execution_count": 20,
   "id": "c753a08e-ff4b-4c8f-9052-9b27213992ec",
   "metadata": {},
   "outputs": [
    {
     "name": "stderr",
     "output_type": "stream",
     "text": [
      "/var/folders/kv/pnjkz5190xl7s5h7v0h_vjb40000gn/T/ipykernel_41931/1342967205.py:1: LangChainDeprecationWarning: The class `LLMChain` was deprecated in LangChain 0.1.17 and will be removed in 1.0. Use :meth:`~RunnableSequence, e.g., `prompt | llm`` instead.\n",
      "  llm_chain=LLMChain(llm=llm,prompt=prompt)\n"
     ]
    }
   ],
   "source": [
    "llm_chain=LLMChain(llm=llm,prompt=prompt)\n",
    "summary=llm_chain.invoke({'speech':speech,'language':'hindi'})"
   ]
  },
  {
   "cell_type": "code",
   "execution_count": 21,
   "id": "bc097b6c-bdbf-470e-a428-0824d3c6d4db",
   "metadata": {},
   "outputs": [
    {
     "data": {
      "text/plain": [
       "\"भारत विकसित संकल्प यात्रा को सफल बनाने के लिए लोग राष्ट्रभर में सरकार, राजनीतिक और सामाजिक गतिविधियों में लगे हुए हैं। संसद के सदस्य के नाते, मेरी जिम्मेदारी भी इस कार्यक्रम में समय योगदान करना था। इसलिए, आज मैं एक सांसद और आपका 'सेवक' के रूप में यहाँ आया हूं, इस कार्यक्रम में आपके साथ हूं। मेरे अनुभव और अवलोकन से मुझे लगता है कि सरकार की योजनाएं सही लोगों तक बिना किसी परेशानी के पहुंचना सबसे महत्वपूर्ण है। मैंने देखा है कि चार करोड़ परिवारों को उनके 'पुक्का' मकान मिल गए हैं। लेकिन कुछ लोग सरकारी लाभों से बाहर रह गए हैं। इसलिए, मैंने देश भर में फिर से यात्रा करने का निर्णय लिया है, लोगों के साथ सरकारी योजनाओं के अनुभव सुनने के लिए, समझने के लिए कि क्या उन्हें इच्छित लाभ मिला है और यह सुनिश्चित करने के लिए कि कार्यक्रम किसी भी रिश्वत के बिना सभी तक पहुँच रहा है।\\n\\nजब आपको लोगों के अनुभव सुनने को मिलता है, तो आपको किसी नए उत्साह की जरुरत नहीं पड़ती। अधिकारी अच्छी योजनाएं तैयार करते हैं, कागजात तेजी से प्रस्तुत करते हैं और धन का आवंटन भी करते हैं। मगर जब उन्हें यह पता चलता है कि उनका काम सीधे किसी के जीवन पर प्रभाव डाल रहा है, तो उनका उत्साह और बढ़ जाता है। जब वे देखते हैं कि उनके प्रयासों के प्रत्यक्ष परिणाम को देखते हैं, तो उनका उत्साह और भी दोगुना हो जाता है। इसलिए, ‘विकसित भारत संकल्प यात्रा’ ने सरकारी अधिकारियों पर सकारात्मक प्रभाव डाला है। यह उन्हें अधिक उत्साही बनाया है, खासकर जब वे देखते हैं कि तंगीयों तक पहुंचने वाला लाभ लोगों तक पहुंच रहा है। अधिकारी अब अपने काम से संतुष्ट होते हैं, कहते हैं, “मैंने एक अच्छी योजना बनाई, मैंने एक फाइल तैयार की, और इच्छित लाभकारी लाभ प्राप्त किए हैं।” जब कोई सरकारी अधिकारी इस तरह की कहानियाँ सुनता है, तो उसे बहुत संतोष मिलता है।\""
      ]
     },
     "execution_count": 21,
     "metadata": {},
     "output_type": "execute_result"
    }
   ],
   "source": [
    "summary['text']"
   ]
  },
  {
   "cell_type": "markdown",
   "id": "f2a14f23-c91f-4e39-9729-dc4343ff6451",
   "metadata": {},
   "source": [
    "## Stuff Document Chain Summarization\n",
    "\n",
    "When the document size is small enough to fit into context window of llm, we can use stuff document chain , that stuffs or passes the entire document into llm along with the prompt"
   ]
  },
  {
   "cell_type": "code",
   "execution_count": 22,
   "id": "3437b659-4ed1-4892-bfdb-4c934c037319",
   "metadata": {},
   "outputs": [],
   "source": [
    "from PyPDF2 import PdfReader\n",
    "from langchain import PromptTemplate\n",
    "from langchain.chat_models import ChatOpenAI\n",
    "from langchain.chains.summarize import load_summarize_chain\n",
    "from langchain.docstore.document import Document"
   ]
  },
  {
   "cell_type": "code",
   "execution_count": 23,
   "id": "7948caeb-e9e8-40c8-8ade-a69575348a69",
   "metadata": {},
   "outputs": [],
   "source": [
    "# provide the path of  pdf file/files.\n",
    "pdfreader = PdfReader('apjspeech.pdf')"
   ]
  },
  {
   "cell_type": "code",
   "execution_count": 24,
   "id": "0473e173-8aa3-4ebb-a48f-b3ce2185b612",
   "metadata": {},
   "outputs": [],
   "source": [
    "from typing_extensions import Concatenate\n",
    "# read text from pdf\n",
    "text = ''\n",
    "for i, page in enumerate(pdfreader.pages):\n",
    "    content = page.extract_text()\n",
    "    if content:\n",
    "        text += content"
   ]
  },
  {
   "cell_type": "code",
   "execution_count": 26,
   "id": "b5473cd6-0b7b-470d-b9f9-e7ad04270714",
   "metadata": {},
   "outputs": [],
   "source": [
    "template = '''Write a concise and short summary of the following speech.\n",
    "Speech: `{text}`\n",
    "'''\n",
    "prompt = PromptTemplate(\n",
    "    input_variables=['text'],\n",
    "    template=template\n",
    ")"
   ]
  },
  {
   "cell_type": "code",
   "execution_count": 31,
   "id": "465814b2-e22b-4fef-ac44-af994935c411",
   "metadata": {
    "collapsed": true,
    "jupyter": {
     "outputs_hidden": true
    }
   },
   "outputs": [
    {
     "data": {
      "text/plain": [
       "[Document(metadata={}, page_content=' Cisco Conﬁden+al Distinguished Guests Ladies and Gentlemen. It is both an honour and a pleasure for me to be in your midst in the historic capital city of Sofia. Bulgaria is an ancient land, with a long history and a glorious cultural heritage. We know of its literary, philosophical and cultural tradition. The statue of Sofia, in the Centre of this beautiful city, holding the symbols of fame and wisdom in her hands and wearing the crown of the Goddess of fate truly characterizes the aspirations of all mankind. India and Bulgaria have a long-standing friendship. Both have ancient civilizations and our histories have involved contacts with numerous other societies. We have been able to benefit from this by assimilating in our cultures various facets of other civilizations. This has enabled the development of India\\'s and Bulgaria\\'s multi-culturalism drawn from different religious, ethnic and linguistic groups. This is an abiding gift from our previous generations, which we in turn are preserving for the future. India and Bulgaria have always had wide-ranging contacts between our Governments and our people. Our co-operation is multi-dimensional and extends to the realms of politics, trade and economics, science and technology and culture. This relationship is based on continuity and mutual understanding. The exchange of Presidential Visits in 1994 to Sofia and in 1998 to New Delhi has provided the momentum to strengthen and broad base our contacts. My own visit here is in continuation of these high-level exchanges and we hope that it will serve to further enhance our bilateral co-operation. Time has come both Bulgaria and India should identify the core competence in specific areas and select projects of importance for joint design, development, production and marketing in a time-bound manner. I am glad that both countries have identified a number of scientific research projects under the Indo-Bulgarian Science & Technology cooperation. Excellency, I am confident that Indo-Bulgarian Partnership has a bright future. In the new millennium, the entire world is moving in the direction of free and democratic systems. India and Bulgaria share these values. In our own experience of the last fifty years and more, we have found the democratic par liamentary system an appropriate vehicle for serving the needs and aspirations of our people. As with the polity, the current century is seeing a general consensus on the need to undertake structural economic reforms to open up possibilities for enhancement of the welfare of the people of this planet. In India, we are proceeding with the second generation of our economic reforms and are happy to see the success that we have been able to obtain. India is increasingly recognized as a global economic power with notable successes in the frontier areas of information technology, science, space technology and in newly emerging technologies such as nano and bio technology. We have seen that Bulgaria has undertaken major steps in the process of liberalization and has rapidly moved towards a free market economy. I am sure that this will open up opportunities for further extending our economic and commercial ties. The high value attached to education in both our countries and the strong human capital base that we have been able to build up will definitely strengthen mutually beneficial co-operation. Our two way business is presently very  Cisco Conﬁden+al limited. We should enhance our trade and business to billion dollars in a few years time. In India, we believe that the fruits of economic progress should be widely available, especially to the under-privileged sections of our population. The world still has a lot to do for eradication of poverty, unemployment and disease; this shared responsibility must be borne by the global community as a whole. In the realm of international affairs, we too need to address the question of attainment of an equitable world order. We are happy to see that the international community is, indeed, making efforts for such a just system based on respect for sovereignty and territorial integrity of States. The United Nations should function as a true international body and empowered by all members to lead to cohesive conclusions and actions. At the same time, Excellency, as you are aware, new challenges and threats have emerged. The most serious issue we are currently confronted with is that of international terrorism. Terrorism has become a major force jeopardizing international peace and security. It would seem that no State or people are free from this danger. Both India and Bulgaria have a common perception on the dangers posed by this menace. The international community has to take concerted action to isolate and eliminate the sources of such terrorist acts, the impact of which has been felt, by innocent victims including women and children. No terrorist act can be justified on any ground whatsoever. I hope, Excellency, that we shall continue to work jointly and with renewed vigour to eliminate this scourge from the globe. The Bulgarian and Indian people have had close contacts. The great Bulgarian revolutionary Georgi Rakovski has written that \"The oldest civilization in the world was that of India and different beliefs and customs originated from it\". The works of Gandhi, Tagore and Nehru have been translated into Bulgarian and have been popular here. Bulgarian poets Hristo Botev and Hristo Smirenski have exercised influence on Indian writers. During the 19th century, Bulgarian literature reflected the national consciousness and patriotic sentiments as did the writings in India during our freedom struggle. The contacts in the cultural sphere continue and I know that many Bulgarians travel to India to study literature, dance, music and philosophy. I was very happy to note that the Sofia University has a separate Indology Department which offers courses in the languages, history and philosophy of India. The interest amongst Bulgarians in Indian classical music, yoga and ancient Indian scriptures are only some of the aspects of Indian society that have been absorbed in this country. I am also glad to learn that Bulgarian Sportsmen and coaches have been training Indian sportspersons who get the benefit of the experience of your great sporting nation. From our side we could suggest some new areas of cooperation in which India has gained experience. These could include pharmaceuticals, food processing, power and also a sharing of our experience of privatisation. I am optimistic that flourishing economic and scientific ties will take more and more Indians and Bulgarians to each other\\'s country and forge our bonds of friendship further. Excellency, I would like to take this opportunity to convey my personal greetings and that of my delegation for the warm and friendly hospitality that has been accorded by you. This is in keeping with the time-honoured tradition of Bulgaria and its great people. It is also a reflection of the regard with which India is held in this beautiful country.  Cisco Conﬁden+al  ')]"
      ]
     },
     "execution_count": 31,
     "metadata": {},
     "output_type": "execute_result"
    }
   ],
   "source": [
    "docs = [Document(page_content=text)]\n",
    "docs"
   ]
  },
  {
   "cell_type": "code",
   "execution_count": 32,
   "id": "719d5913-f766-4e54-b687-22440710557e",
   "metadata": {
    "scrolled": true
   },
   "outputs": [
    {
     "data": {
      "text/plain": [
       "{'input_documents': [Document(metadata={}, page_content=' Cisco Conﬁden+al Distinguished Guests Ladies and Gentlemen. It is both an honour and a pleasure for me to be in your midst in the historic capital city of Sofia. Bulgaria is an ancient land, with a long history and a glorious cultural heritage. We know of its literary, philosophical and cultural tradition. The statue of Sofia, in the Centre of this beautiful city, holding the symbols of fame and wisdom in her hands and wearing the crown of the Goddess of fate truly characterizes the aspirations of all mankind. India and Bulgaria have a long-standing friendship. Both have ancient civilizations and our histories have involved contacts with numerous other societies. We have been able to benefit from this by assimilating in our cultures various facets of other civilizations. This has enabled the development of India\\'s and Bulgaria\\'s multi-culturalism drawn from different religious, ethnic and linguistic groups. This is an abiding gift from our previous generations, which we in turn are preserving for the future. India and Bulgaria have always had wide-ranging contacts between our Governments and our people. Our co-operation is multi-dimensional and extends to the realms of politics, trade and economics, science and technology and culture. This relationship is based on continuity and mutual understanding. The exchange of Presidential Visits in 1994 to Sofia and in 1998 to New Delhi has provided the momentum to strengthen and broad base our contacts. My own visit here is in continuation of these high-level exchanges and we hope that it will serve to further enhance our bilateral co-operation. Time has come both Bulgaria and India should identify the core competence in specific areas and select projects of importance for joint design, development, production and marketing in a time-bound manner. I am glad that both countries have identified a number of scientific research projects under the Indo-Bulgarian Science & Technology cooperation. Excellency, I am confident that Indo-Bulgarian Partnership has a bright future. In the new millennium, the entire world is moving in the direction of free and democratic systems. India and Bulgaria share these values. In our own experience of the last fifty years and more, we have found the democratic par liamentary system an appropriate vehicle for serving the needs and aspirations of our people. As with the polity, the current century is seeing a general consensus on the need to undertake structural economic reforms to open up possibilities for enhancement of the welfare of the people of this planet. In India, we are proceeding with the second generation of our economic reforms and are happy to see the success that we have been able to obtain. India is increasingly recognized as a global economic power with notable successes in the frontier areas of information technology, science, space technology and in newly emerging technologies such as nano and bio technology. We have seen that Bulgaria has undertaken major steps in the process of liberalization and has rapidly moved towards a free market economy. I am sure that this will open up opportunities for further extending our economic and commercial ties. The high value attached to education in both our countries and the strong human capital base that we have been able to build up will definitely strengthen mutually beneficial co-operation. Our two way business is presently very  Cisco Conﬁden+al limited. We should enhance our trade and business to billion dollars in a few years time. In India, we believe that the fruits of economic progress should be widely available, especially to the under-privileged sections of our population. The world still has a lot to do for eradication of poverty, unemployment and disease; this shared responsibility must be borne by the global community as a whole. In the realm of international affairs, we too need to address the question of attainment of an equitable world order. We are happy to see that the international community is, indeed, making efforts for such a just system based on respect for sovereignty and territorial integrity of States. The United Nations should function as a true international body and empowered by all members to lead to cohesive conclusions and actions. At the same time, Excellency, as you are aware, new challenges and threats have emerged. The most serious issue we are currently confronted with is that of international terrorism. Terrorism has become a major force jeopardizing international peace and security. It would seem that no State or people are free from this danger. Both India and Bulgaria have a common perception on the dangers posed by this menace. The international community has to take concerted action to isolate and eliminate the sources of such terrorist acts, the impact of which has been felt, by innocent victims including women and children. No terrorist act can be justified on any ground whatsoever. I hope, Excellency, that we shall continue to work jointly and with renewed vigour to eliminate this scourge from the globe. The Bulgarian and Indian people have had close contacts. The great Bulgarian revolutionary Georgi Rakovski has written that \"The oldest civilization in the world was that of India and different beliefs and customs originated from it\". The works of Gandhi, Tagore and Nehru have been translated into Bulgarian and have been popular here. Bulgarian poets Hristo Botev and Hristo Smirenski have exercised influence on Indian writers. During the 19th century, Bulgarian literature reflected the national consciousness and patriotic sentiments as did the writings in India during our freedom struggle. The contacts in the cultural sphere continue and I know that many Bulgarians travel to India to study literature, dance, music and philosophy. I was very happy to note that the Sofia University has a separate Indology Department which offers courses in the languages, history and philosophy of India. The interest amongst Bulgarians in Indian classical music, yoga and ancient Indian scriptures are only some of the aspects of Indian society that have been absorbed in this country. I am also glad to learn that Bulgarian Sportsmen and coaches have been training Indian sportspersons who get the benefit of the experience of your great sporting nation. From our side we could suggest some new areas of cooperation in which India has gained experience. These could include pharmaceuticals, food processing, power and also a sharing of our experience of privatisation. I am optimistic that flourishing economic and scientific ties will take more and more Indians and Bulgarians to each other\\'s country and forge our bonds of friendship further. Excellency, I would like to take this opportunity to convey my personal greetings and that of my delegation for the warm and friendly hospitality that has been accorded by you. This is in keeping with the time-honoured tradition of Bulgaria and its great people. It is also a reflection of the regard with which India is held in this beautiful country.  Cisco Conﬁden+al  ')],\n",
       " 'output_text': 'The speech highlights the long-standing friendship between India and Bulgaria, emphasizing the need for enhanced cooperation in various sectors such as science, technology, trade, and economics. The speaker also addresses the importance of democratic systems, economic reforms, and the fight against terrorism on a global scale. Cultural ties between the two countries are acknowledged, with a focus on mutual exchange and collaboration in areas such as literature, music, and sports. The speech concludes by expressing optimism for the future of the Indo-Bulgarian partnership and gratitude for the warm hospitality extended by Bulgaria.'}"
      ]
     },
     "execution_count": 32,
     "metadata": {},
     "output_type": "execute_result"
    }
   ],
   "source": [
    "chain = load_summarize_chain(\n",
    "    llm,\n",
    "    chain_type='stuff',\n",
    "    prompt=prompt,\n",
    "    verbose=False\n",
    ")\n",
    "output_summary = chain.invoke(docs)\n",
    "output_summary"
   ]
  },
  {
   "cell_type": "code",
   "execution_count": 35,
   "id": "06250167-4e7f-4512-bba9-4597f9586029",
   "metadata": {},
   "outputs": [
    {
     "data": {
      "text/plain": [
       "'The speech highlights the long-standing friendship between India and Bulgaria, emphasizing the need for enhanced cooperation in various sectors such as science, technology, trade, and economics. The speaker also addresses the importance of democratic systems, economic reforms, and the fight against terrorism on a global scale. Cultural ties between the two countries are acknowledged, with a focus on mutual exchange and collaboration in areas such as literature, music, and sports. The speech concludes by expressing optimism for the future of the Indo-Bulgarian partnership and gratitude for the warm hospitality extended by Bulgaria.'"
      ]
     },
     "execution_count": 35,
     "metadata": {},
     "output_type": "execute_result"
    }
   ],
   "source": [
    "output_summary['output_text']"
   ]
  },
  {
   "cell_type": "markdown",
   "id": "d24f3fa6-0d3f-4ea9-b334-e493b2b4d5c5",
   "metadata": {},
   "source": [
    "## Map reduce document chain\n",
    "\n",
    "#### Summarizing Large Documents Using Map Reduce -  that do not fit in the context window of llm , hence stuff document chain is not used\n",
    "\n",
    "When working with multiple pages of text for summarization, you might encounter token limit constraints. While token limits aren't always an issue, it's important to understand how to manage them effectively when they arise.\n",
    "\n",
    "One useful approach is the \"Map Reduce\" chain type. This method involves dividing the text into smaller, manageable chunks that stay within the token limit. Each chunk is summarized individually, and then a final summary is created by combining these smaller summaries. This ensures efficient processing without exceeding token limits."
   ]
  },
  {
   "cell_type": "code",
   "execution_count": 37,
   "id": "525c12a6-f1c4-439c-b04f-bbae89d5dc1f",
   "metadata": {},
   "outputs": [],
   "source": [
    "from langchain import PromptTemplate\n",
    "from langchain.chat_models import ChatOpenAI\n",
    "from langchain.chains.summarize import load_summarize_chain\n",
    "from langchain.text_splitter import RecursiveCharacterTextSplitter  ## to split the large document into chunks\n"
   ]
  },
  {
   "cell_type": "code",
   "execution_count": 38,
   "id": "b696c782-52c2-4f35-9211-e521636475ff",
   "metadata": {},
   "outputs": [],
   "source": [
    "# provide the path of  pdf file/files.\n",
    "pdfreader = PdfReader('apjSpeech.pdf')\n",
    "from typing_extensions import Concatenate\n",
    "# read text from pdf\n",
    "text = ''\n",
    "for i, page in enumerate(pdfreader.pages):\n",
    "    content = page.extract_text()\n",
    "    if content:\n",
    "        text += content"
   ]
  },
  {
   "cell_type": "code",
   "execution_count": 40,
   "id": "079700bf-e702-47ff-86d6-f9bbebb39952",
   "metadata": {},
   "outputs": [],
   "source": [
    "llm = ChatOpenAI(temperature=0, model_name='gpt-3.5-turbo')"
   ]
  },
  {
   "cell_type": "code",
   "execution_count": 43,
   "id": "117cc0a9-e03f-470a-98e8-4e9ccba2ae82",
   "metadata": {},
   "outputs": [
    {
     "data": {
      "text/plain": [
       "2"
      ]
     },
     "execution_count": 43,
     "metadata": {},
     "output_type": "execute_result"
    }
   ],
   "source": [
    "## Splittting the text\n",
    "text_splitter = RecursiveCharacterTextSplitter(chunk_size=4000, chunk_overlap=20)\n",
    "chunks = text_splitter.create_documents([text])\n",
    "len(chunks)"
   ]
  },
  {
   "cell_type": "code",
   "execution_count": 46,
   "id": "3e671bd5-216c-4f97-a8ac-b1ddc52baf67",
   "metadata": {},
   "outputs": [],
   "source": [
    "chain = load_summarize_chain(\n",
    "    llm,\n",
    "    chain_type='map_reduce',\n",
    "    verbose=False\n",
    ")\n",
    "summary = chain.invoke(chunks)\n"
   ]
  },
  {
   "cell_type": "code",
   "execution_count": 48,
   "id": "c074a035-de5d-4df5-8083-d81fcc9b9708",
   "metadata": {},
   "outputs": [
    {
     "data": {
      "text/plain": [
       "'The speaker expresses gratitude for being in Sofia, Bulgaria and emphasizes the long-standing friendship between India and Bulgaria. They discuss the importance of cooperation in politics, trade, science, and technology, as well as the need for joint projects and economic reforms to enhance bilateral relations. The speaker also highlights the importance of education and human capital in strengthening cooperation between the two countries. They stress the importance of global cooperation in addressing poverty, unemployment, and disease, and the need for an equitable world order in international affairs. India and Bulgaria share common concerns about terrorism and have a history of cultural exchange, with both countries looking to expand cooperation in areas such as pharmaceuticals, food processing, and power. The relationship between the two countries is strong and based on mutual respect and friendship.'"
      ]
     },
     "execution_count": 48,
     "metadata": {},
     "output_type": "execute_result"
    }
   ],
   "source": [
    "summary['output_text']\n"
   ]
  },
  {
   "cell_type": "markdown",
   "id": "8e44192b-a434-4632-98ef-b557962d7b55",
   "metadata": {},
   "source": [
    "This summary is a good starting point, but I personally prefer information presented in bullet points. To achieve this, I’ll use tailored prompts (similar to the ones used earlier) to guide the model to generate the output in the desired format.\n",
    "\n",
    "The map_prompt will remain unchanged (I’m including it here for reference), but I’ll modify the combine_prompt to align with my preference.\n",
    "\n",
    "\n",
    "\n",
    "\n",
    "\n",
    "\n",
    "\n"
   ]
  },
  {
   "cell_type": "markdown",
   "id": "4a32e593-b098-4f77-b30b-ce11a4aad6c7",
   "metadata": {},
   "source": [
    "## Map Reduce With Custom Prompts\n",
    "- having separate prompt for individual chunks\n",
    "- a final prompt for all the outputs of chunks"
   ]
  },
  {
   "cell_type": "code",
   "execution_count": 49,
   "id": "10d7d4cd-4f1d-45be-a76d-7f1800ec7436",
   "metadata": {},
   "outputs": [],
   "source": [
    "chunks_prompt=\"\"\"\n",
    "Please summarize the below speech:\n",
    "Speech:`{text}'\n",
    "Summary:\n",
    "\"\"\"\n",
    "map_prompt_template=PromptTemplate(input_variables=['text'],\n",
    "                                    template=chunks_prompt)"
   ]
  },
  {
   "cell_type": "code",
   "execution_count": 50,
   "id": "f703e2f6-d0d3-403f-ac4d-726044320e15",
   "metadata": {},
   "outputs": [],
   "source": [
    "final_combine_prompt='''\n",
    "Provide a final summary of the entire speech with these important points.\n",
    "Add a Generic Motivational Title,\n",
    "Start the precise summary with an introduction and provide the\n",
    "summary in number points for the speech.\n",
    "Speech: `{text}`\n",
    "'''\n",
    "final_combine_prompt_template=PromptTemplate(input_variables=['text'],\n",
    "                                             template=final_combine_prompt)"
   ]
  },
  {
   "cell_type": "code",
   "execution_count": 51,
   "id": "94d55db5-0b8c-431e-98c2-973179308a81",
   "metadata": {},
   "outputs": [],
   "source": [
    "summary_chain = load_summarize_chain(\n",
    "    llm=llm,\n",
    "    chain_type='map_reduce',\n",
    "    map_prompt=map_prompt_template,\n",
    "    combine_prompt=final_combine_prompt_template,\n",
    "    verbose=False\n",
    ")\n",
    "output = summary_chain.run(chunks)"
   ]
  },
  {
   "cell_type": "code",
   "execution_count": 66,
   "id": "c564d48f-1d5b-4cdd-aa80-4a847c296cda",
   "metadata": {},
   "outputs": [
    {
     "name": "stdout",
     "output_type": "stream",
     "text": [
      "Title: \"Building Bridges: Strengthening India-Bulgaria Relations\"\n",
      "\n",
      "Introduction:\n",
      "In a speech highlighting the longstanding friendship between India and Bulgaria, the speaker emphasizes the shared cultural heritage and history of cooperation between the two nations. They discuss the importance of identifying core competencies and collaborating on joint projects in various fields, as well as the economic reforms and successes of both countries.\n",
      "\n",
      "Summary:\n",
      "1. Emphasis on the importance of education and human capital in strengthening cooperation.\n",
      "2. Call for increased trade and business between India and Bulgaria.\n",
      "3. Stress on global cooperation to address poverty, unemployment, and disease.\n",
      "4. Advocacy for an equitable world order in international affairs.\n",
      "5. Focus on combating terrorism and promoting peace and security through international collaboration.\n",
      "6. Highlighting close cultural ties between India and Bulgaria, including mutual influences in literature and sports.\n",
      "7. Suggestions for further cooperation in areas such as pharmaceuticals and food processing.\n",
      "8. Optimism for the future of economic and scientific ties between the two countries.\n",
      "9. Gratitude towards Bulgaria for their warm hospitality.\n",
      "\n",
      "Overall, the speech underscores the importance of building bridges and fostering stronger relations between India and Bulgaria through collaboration, education, and global cooperation.\n"
     ]
    }
   ],
   "source": [
    "print(output)"
   ]
  },
  {
   "cell_type": "markdown",
   "id": "dfaed154-13a1-44e1-a952-cc83e4145867",
   "metadata": {},
   "source": [
    "## Refine chain\n",
    "- similar to map reduce with one difference\n",
    "- chains the chunk with ouput of previous chunk before passing to llm\n",
    "- eg. chunk2_new = chunk2 + output of chunk1"
   ]
  },
  {
   "cell_type": "code",
   "execution_count": 53,
   "id": "35b6ed57-9c14-424f-88c7-5d9ef1a91ab6",
   "metadata": {},
   "outputs": [
    {
     "name": "stdout",
     "output_type": "stream",
     "text": [
      "\n",
      "\n",
      "\u001b[1m> Entering new RefineDocumentsChain chain...\u001b[0m\n",
      "\n",
      "\n",
      "\u001b[1m> Entering new LLMChain chain...\u001b[0m\n",
      "Prompt after formatting:\n",
      "\u001b[32;1m\u001b[1;3mWrite a concise summary of the following:\n",
      "\n",
      "\n",
      "\"Cisco Conﬁden+al Distinguished Guests Ladies and Gentlemen. It is both an honour and a pleasure for me to be in your midst in the historic capital city of Sofia. Bulgaria is an ancient land, with a long history and a glorious cultural heritage. We know of its literary, philosophical and cultural tradition. The statue of Sofia, in the Centre of this beautiful city, holding the symbols of fame and wisdom in her hands and wearing the crown of the Goddess of fate truly characterizes the aspirations of all mankind. India and Bulgaria have a long-standing friendship. Both have ancient civilizations and our histories have involved contacts with numerous other societies. We have been able to benefit from this by assimilating in our cultures various facets of other civilizations. This has enabled the development of India's and Bulgaria's multi-culturalism drawn from different religious, ethnic and linguistic groups. This is an abiding gift from our previous generations, which we in turn are preserving for the future. India and Bulgaria have always had wide-ranging contacts between our Governments and our people. Our co-operation is multi-dimensional and extends to the realms of politics, trade and economics, science and technology and culture. This relationship is based on continuity and mutual understanding. The exchange of Presidential Visits in 1994 to Sofia and in 1998 to New Delhi has provided the momentum to strengthen and broad base our contacts. My own visit here is in continuation of these high-level exchanges and we hope that it will serve to further enhance our bilateral co-operation. Time has come both Bulgaria and India should identify the core competence in specific areas and select projects of importance for joint design, development, production and marketing in a time-bound manner. I am glad that both countries have identified a number of scientific research projects under the Indo-Bulgarian Science & Technology cooperation. Excellency, I am confident that Indo-Bulgarian Partnership has a bright future. In the new millennium, the entire world is moving in the direction of free and democratic systems. India and Bulgaria share these values. In our own experience of the last fifty years and more, we have found the democratic par liamentary system an appropriate vehicle for serving the needs and aspirations of our people. As with the polity, the current century is seeing a general consensus on the need to undertake structural economic reforms to open up possibilities for enhancement of the welfare of the people of this planet. In India, we are proceeding with the second generation of our economic reforms and are happy to see the success that we have been able to obtain. India is increasingly recognized as a global economic power with notable successes in the frontier areas of information technology, science, space technology and in newly emerging technologies such as nano and bio technology. We have seen that Bulgaria has undertaken major steps in the process of liberalization and has rapidly moved towards a free market economy. I am sure that this will open up opportunities for further extending our economic and commercial ties. The high value attached to education in both our countries and the strong human capital base that we have been able to build up will definitely strengthen mutually beneficial co-operation. Our two way business is presently very  Cisco Conﬁden+al limited. We should enhance our trade and business to billion dollars in a few years time. In India, we believe that the fruits of economic progress should be widely available, especially to the under-privileged sections of our population. The world still has a lot to do for eradication of poverty, unemployment and disease; this shared responsibility must be borne by the global community as a whole. In the realm of international affairs, we too need to address the question of attainment of an equitable world order. We are happy to see that the international\"\n",
      "\n",
      "\n",
      "CONCISE SUMMARY:\u001b[0m\n",
      "\n",
      "\u001b[1m> Finished chain.\u001b[0m\n",
      "\n",
      "\n",
      "\u001b[1m> Entering new LLMChain chain...\u001b[0m\n",
      "Prompt after formatting:\n",
      "\u001b[32;1m\u001b[1;3mYour job is to produce a final summary.\n",
      "We have provided an existing summary up to a certain point: The speaker expresses gratitude for being in Sofia, Bulgaria and highlights the long-standing friendship between India and Bulgaria. They discuss the importance of strengthening bilateral cooperation in various areas such as science, technology, and trade. The speaker also emphasizes the shared values of democracy and economic reforms in both countries. They express optimism for the future of the Indo-Bulgarian partnership and the potential for increased economic and commercial ties. Additionally, the speaker stresses the importance of addressing global issues such as poverty, unemployment, and disease through international cooperation.\n",
      "We have the opportunity to refine the existing summary (only if needed) with some more context below.\n",
      "------------\n",
      "the international community is, indeed, making efforts for such a just system based on respect for sovereignty and territorial integrity of States. The United Nations should function as a true international body and empowered by all members to lead to cohesive conclusions and actions. At the same time, Excellency, as you are aware, new challenges and threats have emerged. The most serious issue we are currently confronted with is that of international terrorism. Terrorism has become a major force jeopardizing international peace and security. It would seem that no State or people are free from this danger. Both India and Bulgaria have a common perception on the dangers posed by this menace. The international community has to take concerted action to isolate and eliminate the sources of such terrorist acts, the impact of which has been felt, by innocent victims including women and children. No terrorist act can be justified on any ground whatsoever. I hope, Excellency, that we shall continue to work jointly and with renewed vigour to eliminate this scourge from the globe. The Bulgarian and Indian people have had close contacts. The great Bulgarian revolutionary Georgi Rakovski has written that \"The oldest civilization in the world was that of India and different beliefs and customs originated from it\". The works of Gandhi, Tagore and Nehru have been translated into Bulgarian and have been popular here. Bulgarian poets Hristo Botev and Hristo Smirenski have exercised influence on Indian writers. During the 19th century, Bulgarian literature reflected the national consciousness and patriotic sentiments as did the writings in India during our freedom struggle. The contacts in the cultural sphere continue and I know that many Bulgarians travel to India to study literature, dance, music and philosophy. I was very happy to note that the Sofia University has a separate Indology Department which offers courses in the languages, history and philosophy of India. The interest amongst Bulgarians in Indian classical music, yoga and ancient Indian scriptures are only some of the aspects of Indian society that have been absorbed in this country. I am also glad to learn that Bulgarian Sportsmen and coaches have been training Indian sportspersons who get the benefit of the experience of your great sporting nation. From our side we could suggest some new areas of cooperation in which India has gained experience. These could include pharmaceuticals, food processing, power and also a sharing of our experience of privatisation. I am optimistic that flourishing economic and scientific ties will take more and more Indians and Bulgarians to each other's country and forge our bonds of friendship further. Excellency, I would like to take this opportunity to convey my personal greetings and that of my delegation for the warm and friendly hospitality that has been accorded by you. This is in keeping with the time-honoured tradition of Bulgaria and its great people. It is also a reflection of the regard with which India is held in this beautiful country.  Cisco Conﬁden+al\n",
      "------------\n",
      "Given the new context, refine the original summary.\n",
      "If the context isn't useful, return the original summary.\u001b[0m\n",
      "\n",
      "\u001b[1m> Finished chain.\u001b[0m\n",
      "\n",
      "\u001b[1m> Finished chain.\u001b[0m\n"
     ]
    }
   ],
   "source": [
    "chain = load_summarize_chain(\n",
    "    llm=llm,\n",
    "    chain_type='refine',\n",
    "    verbose=True\n",
    ")\n",
    "output_summary = chain.run(chunks)"
   ]
  },
  {
   "cell_type": "code",
   "execution_count": 54,
   "id": "64dfda18-3156-4e1f-8201-db40c2137a81",
   "metadata": {},
   "outputs": [
    {
     "data": {
      "text/plain": [
       "'The speaker expresses gratitude for being in Sofia, Bulgaria and highlights the long-standing friendship between India and Bulgaria. They discuss the importance of strengthening bilateral cooperation in various areas such as science, technology, and trade, as well as the shared values of democracy and economic reforms in both countries. The speaker expresses optimism for the future of the Indo-Bulgarian partnership and the potential for increased economic and commercial ties. Additionally, the speaker stresses the importance of addressing global issues such as poverty, unemployment, and disease through international cooperation. They also emphasize the need for concerted action to combat international terrorism, which poses a serious threat to global peace and security. The cultural ties between the two countries are highlighted, with mutual influences in literature, music, and sports. The speaker looks forward to further collaboration in areas such as pharmaceuticals, food processing, and power, to strengthen the bonds of friendship between India and Bulgaria.'"
      ]
     },
     "execution_count": 54,
     "metadata": {},
     "output_type": "execute_result"
    }
   ],
   "source": [
    "output_summary"
   ]
  },
  {
   "cell_type": "code",
   "execution_count": null,
   "id": "a6379cdb-6821-4a01-a152-f7539e0ac0c0",
   "metadata": {},
   "outputs": [],
   "source": []
  }
 ],
 "metadata": {
  "kernelspec": {
   "display_name": "langchain",
   "language": "python",
   "name": "langchain"
  },
  "language_info": {
   "codemirror_mode": {
    "name": "ipython",
    "version": 3
   },
   "file_extension": ".py",
   "mimetype": "text/x-python",
   "name": "python",
   "nbconvert_exporter": "python",
   "pygments_lexer": "ipython3",
   "version": "3.10.16"
  }
 },
 "nbformat": 4,
 "nbformat_minor": 5
}
