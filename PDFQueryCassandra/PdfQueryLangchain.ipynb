{
 "cells": [
  {
   "cell_type": "markdown",
   "id": "2165f423-1f2c-4891-b469-e0147f0196b7",
   "metadata": {},
   "source": [
    "### Pre-requisites:\n",
    "\n",
    "You need a Serverless Cassandra with Vector Search database on Astra DB to run this demo. As outlined in more detail here, you should get a DB Token with role Database Administrator and copy your Database ID: these connection parameters are needed momentarily.\n",
    "You also need an OpenAl API Key for this demo to work.\n",
    "\n",
    "What you will do:\n",
    "\n",
    "* Setup: import dependencies, provide secrets, create the LangChain vector store;\n",
    "* Run a Question-Answering loop retrieving the relevant headlines and having an LLM construct the answer."
   ]
  },
  {
   "cell_type": "markdown",
   "id": "9567519c-792d-4ae1-bff3-c50dd1c50b6b",
   "metadata": {},
   "source": [
    "Install dependencies"
   ]
  },
  {
   "cell_type": "code",
   "execution_count": 4,
   "id": "40b05c4c-fe62-42ff-b257-42c401a3c363",
   "metadata": {},
   "outputs": [],
   "source": [
    "#! pip install -q cassio datasets langchain openai tiktoken\n",
    "# cassio helps us access astradb in langchain"
   ]
  },
  {
   "cell_type": "markdown",
   "id": "0190bb63-b7b8-4f23-acbc-6bc70df03bb2",
   "metadata": {},
   "source": [
    "Import packages"
   ]
  },
  {
   "cell_type": "code",
   "execution_count": 2,
   "id": "a405261a-551b-40f1-8202-40f0125d43c7",
   "metadata": {},
   "outputs": [],
   "source": [
    "## langchian specific packages\n",
    "from langchain.vectorstores.cassandra import Cassandra\n",
    "from langchain_openai import OpenAI\n",
    "from langchain_openai import OpenAIEmbeddings\n",
    "from langchain.indexes.vectorstore import VectorStoreIndexWrapper\n",
    "\n",
    "## Support Dataset retreival from huggingface\n",
    "from datasets import load_dataset"
   ]
  },
  {
   "cell_type": "code",
   "execution_count": 3,
   "id": "e42de91d-5fe3-4eaf-bd01-2707d7276722",
   "metadata": {},
   "outputs": [],
   "source": [
    "#! pip install PyPDF2\n",
    "# to read text inside any pdf"
   ]
  },
  {
   "cell_type": "code",
   "execution_count": 5,
   "id": "b3af4a9f-8c8a-4cf1-88c4-a5a39c6a453c",
   "metadata": {},
   "outputs": [],
   "source": [
    "from PyPDF2 import PdfReader"
   ]
  },
  {
   "cell_type": "markdown",
   "id": "0fd82413-57f7-4f71-a9df-158d551e2b95",
   "metadata": {},
   "source": [
    "### Setup\n",
    "\n",
    "Use your own astra db application token, astra db id, openai api key"
   ]
  },
  {
   "cell_type": "code",
   "execution_count": 6,
   "id": "a383039d-58a3-4c5f-b3f7-510120a79601",
   "metadata": {},
   "outputs": [],
   "source": [
    "import os\n",
    "from dotenv import load_dotenv\n",
    "load_dotenv()\n",
    "\n",
    "ASTRA_DB_ID = os.getenv(\"ASTRA_DB_ID\")\n",
    "OPENAI_API_KEY = os.getenv(\"OPENAI_API_KEY\")\n",
    "ASTRA_DB_APPLICATION_TOKEN = os.getenv(\"ASTRA_DB_APPLICATION_TOKEN\") ## generated token under connection details in astra database"
   ]
  },
  {
   "cell_type": "markdown",
   "id": "945d1ac6-1d1f-4e0d-9d4e-50e66c1a0700",
   "metadata": {},
   "source": [
    "### Read pdf file"
   ]
  },
  {
   "cell_type": "markdown",
   "id": "1b4fcd90-584b-43c8-9e38-facff3854411",
   "metadata": {},
   "source": [
    "file = PdfReader(\"us_census/acsbr-015.pdf\")\n",
    "\n",
    "from typing_extensions import Concatenate\n",
    "\n",
    "raw_text = \"\"\n",
    "for i , page in enumerate(file.pages):\n",
    "    content = page.extract_text()\n",
    "    if content:\n",
    "        raw_text += content"
   ]
  },
  {
   "cell_type": "markdown",
   "id": "fe71060e-1fc2-4606-acee-03309fc7c6a1",
   "metadata": {},
   "source": [
    "### Connect to Database"
   ]
  },
  {
   "cell_type": "code",
   "execution_count": 13,
   "id": "e3c5ddfb-6313-41be-9a9e-1fe28e7b2d33",
   "metadata": {},
   "outputs": [],
   "source": [
    "## Connect to Database\n",
    "import cassio\n",
    "cassio.init(token=ASTRA_DB_APPLICATION_TOKEN, database_id =ASTRA_DB_ID)"
   ]
  },
  {
   "cell_type": "markdown",
   "id": "e9a077b5-0f2c-4b65-96f6-9fe4680bf4f7",
   "metadata": {},
   "source": [
    "### Create langchain llm and embedding "
   ]
  },
  {
   "cell_type": "code",
   "execution_count": 15,
   "id": "8e0818ef-ff33-4222-8064-747577046ce6",
   "metadata": {},
   "outputs": [],
   "source": [
    "llm = OpenAI()\n",
    "embedding = OpenAIEmbeddings()"
   ]
  },
  {
   "cell_type": "markdown",
   "id": "3ac97e55-6e5c-4f69-8586-41d1408c2927",
   "metadata": {},
   "source": [
    "### Create langchain vector store backed by astra db"
   ]
  },
  {
   "cell_type": "code",
   "execution_count": 17,
   "id": "6a46e32d-e1bc-44fd-acdf-cf9c496a5bca",
   "metadata": {},
   "outputs": [],
   "source": [
    "astra_vector_store = Cassandra(\n",
    "    embedding = embedding,\n",
    "    table_name = \"demo\", ## automatically creates a table with this name in astra db\n",
    "    session = None,\n",
    "    keyspace = None\n",
    ")"
   ]
  },
  {
   "cell_type": "markdown",
   "id": "a34675b1-c2a2-481e-946a-f8eb3e2f049d",
   "metadata": {},
   "source": [
    "### Create chunks"
   ]
  },
  {
   "cell_type": "code",
   "execution_count": 19,
   "id": "552f5b41-80b9-4124-8f1d-ef11acd1b4b0",
   "metadata": {},
   "outputs": [
    {
     "name": "stdout",
     "output_type": "stream",
     "text": [
      "106\n"
     ]
    },
    {
     "data": {
      "text/plain": [
       "'Health Insurance Coverage Status and Type \\nby Geography: 2021 and 2022\\nAmerican Community Survey Briefs\\nACSBR-015Issued September 2023Douglas Conway and Breauna Branch\\nINTRODUCTION\\nDemographic shifts as well as economic and govern-\\nment policy changes can affect people’s access to health coverage. For example, between 2021 and 2022, the labor market continued to improve, which may have affected private coverage in the United States \\nduring that time.\\n1 Public policy changes included \\nthe renewal of the Public Health Emergency, which \\nallowed Medicaid enrollees to remain covered under the Continuous Enrollment Provision.\\n2 The American \\nRescue Plan (ARP) enhanced Marketplace premium subsidies for those with incomes above 400 percent of the poverty level as well as for unemployed people.\\n3'"
      ]
     },
     "execution_count": 19,
     "metadata": {},
     "output_type": "execute_result"
    }
   ],
   "source": [
    "from langchain.text_splitter import CharacterTextSplitter\n",
    "splitter = CharacterTextSplitter(\n",
    "    separator = \"\\n\",\n",
    "    chunk_size=800,\n",
    "    chunk_overlap=200,\n",
    "    length_function =len\n",
    ")\n",
    "\n",
    "texts = splitter.split_text(raw_text)\n",
    "print(len(texts))\n",
    "texts[0]"
   ]
  },
  {
   "cell_type": "markdown",
   "id": "ca636b53-dda5-4ac9-8491-f3f3870a497c",
   "metadata": {},
   "source": [
    "### Load vector store with chunks"
   ]
  },
  {
   "cell_type": "code",
   "execution_count": 20,
   "id": "76effafa-9aee-4476-8c83-30c0a43c53ac",
   "metadata": {
    "collapsed": true,
    "jupyter": {
     "outputs_hidden": true
    },
    "scrolled": true
   },
   "outputs": [
    {
     "data": {
      "text/plain": [
       "['5dc6af7e327b4664b47f890eb967ea6b',\n",
       " 'd5ff69aefde944f9945cb0f26582b266',\n",
       " '2e29494b211d4465a2fdc39f05388c17',\n",
       " 'a628b1b2ffa14340b5684e157cfb2b43',\n",
       " '1010da93c0dd4a409ff8ecd58d7a9fe6',\n",
       " '503ccb972ad04e22903afa6236282e13',\n",
       " '3d9dd6e55e344a0ba91dc56df07f16eb',\n",
       " '3586d685922441d894a472499c46844a',\n",
       " '6ca1977998aa4f70afb6e0e48eba32b3',\n",
       " 'ed9d92bd05994abdba704200224d20c9',\n",
       " '6dadb5b58ed24a2d9abeb6f969b1fc0d',\n",
       " '323d2657699a4b308b8ec3275851718c',\n",
       " '2e4166700fa4420392dc18f1e1d5a7d9',\n",
       " '5d17cac4b3984d6ea3a04762bb44844d',\n",
       " '69df6699d3d1423e8b0d2bbcc86e332b',\n",
       " '3de84ba0587f48ea91162df05d8f891b',\n",
       " '1e6286bd6e6444d0b85cfc4f8675abda',\n",
       " 'dc41672be207471992fdc26701b6ee0b',\n",
       " '459e5c5aa5224de49161639a2b11b4cc',\n",
       " '1a32f37b5dbe48d78fb454fa453f9051',\n",
       " '86002443660f40098a657be0be559f42',\n",
       " '38178b94f261493baecb78c3a58f7408',\n",
       " '352251559d5748ddb3e52607361f1bd4',\n",
       " 'd4be53d21c8f4fe4b5e91de95b2757a3',\n",
       " 'f29707a33ebe4ce8b535ac6579fe97bb',\n",
       " '525d0f35e9a0445f8a0e041471380267',\n",
       " '6f7bea1b94e144dfacf39260efcf1214',\n",
       " '0cb275331aac4801b2aac163fb2d4af0',\n",
       " '70e85f8edfc54a64bd6ee8ad5fe66f25',\n",
       " 'b5a263a7ab78488fa116d54455f23262',\n",
       " '24ebfdddbc7641e5ac1167c5b009d672',\n",
       " '4bd805d030c343938ba8844b80b7ce6b',\n",
       " '529882d2d35047c386cf3da0ec5d8cf4',\n",
       " '98213ac07d4d42349be6fbcf365a9f6e',\n",
       " '2a721f998bb847a08226cd0558b9f711',\n",
       " '9c12a83ae9bd4233865f20b25c59800f',\n",
       " '31c0f17ee0ea45029b10e9ff2d58f137',\n",
       " 'cf624cd0282f4e0ea254483ffe84b7de',\n",
       " '02afb77accef43b888cf6f962b20ba76',\n",
       " '9e6a39a26b284cd8b915d9e7545e714a',\n",
       " '15b27af55d34494e96f50d28f1b7a5c8',\n",
       " 'bcb0de5b5f464fba838dafc9e16f798f',\n",
       " 'b2d935b222ea430693a94de6d7bda606',\n",
       " '7fc0dd2ad97e45a5961a5e67317e7aea',\n",
       " '7f55ee6868d14ef1a4047d3252a3df33',\n",
       " '75a44a84090e4ce4a0a21cfd608baf92',\n",
       " '93a86400299f478ebb8e14d7aaf16aef',\n",
       " '576d06b401984c96ba8e0900a78b716b',\n",
       " '2d8c0b40b4574b65a7d633a107f19372',\n",
       " 'a14dd213ad7e487bb17c0f741aca2b12',\n",
       " 'e3b261974e584c738bd80ed670b9ad39',\n",
       " 'ad5b227337e24cc490621a0063f08e9f',\n",
       " 'c78a82d972804607bc8ae636c92d4065',\n",
       " '403f0a20990b4461abf72fce3f9d3764',\n",
       " '476d48e6116146c28eefed1e705bcc23',\n",
       " '610aa1d04b124ed6a3efddb46a7fc5af',\n",
       " 'ac84daacee844c3593257cf843a3673f',\n",
       " '0d433af6dd8b47ce8798fa1e656e1704',\n",
       " '346154712d2e412db553508cb2b7a831',\n",
       " '49482b46fe6e453c87be3f73cba518ec',\n",
       " 'c7245d1b69ea4f7b863067020e62bccc',\n",
       " '067884a1af4d4d62bd947388d32081db',\n",
       " 'ce521aba5aba4d3d92164450a3a7072c',\n",
       " '97c6215c6cbc424492ad7ffb195cd1d6',\n",
       " '917f55ba78b0407baa6dc21196fbe6a9',\n",
       " 'fcd1d59b55c14ca3ab1b42d06997760f',\n",
       " '6b0f013e33fb4a80990613163a5a7cd3',\n",
       " '4134d16d422d4bb4b6f4526d930bcf7a',\n",
       " '55e7a7b1de5c465abcc004d813b32065',\n",
       " '0c1b98f9d4ac4c53b23d5fe3a377bb3a',\n",
       " 'd981e0f6caa34932815f6f94edf9a424',\n",
       " '3fb40dbaeeda43428b151169f4c69dc0',\n",
       " 'b872f27d252c4890b17e14f2267ce1e0',\n",
       " '57b89350b2e24fb284dae5ed47c0d56e',\n",
       " '82cd8557d14c41bebc3771a1adf6835a',\n",
       " 'c15f01040077479bb11e0b03eb492873',\n",
       " '1d780d00a15d4b4499e2771fc531efaf',\n",
       " '2ba0fe7fce72412aa772ae4096ce459c',\n",
       " 'b5a9621893644db9af5b8955d07aa2ed',\n",
       " 'f9bb7321889347089f8be6cf98e77808',\n",
       " '86cd9f30685448a7a322fb4e26e2eeaa',\n",
       " '120a4bab5db14972a1e9b319f759ad8a',\n",
       " '2e69d1c9366c41509f3e627a01345aeb',\n",
       " '75449c01723342e790b99154808c3e2e',\n",
       " 'ce1ccf780f7146b1a97346d1b045f7ae',\n",
       " '0fec21d8d5a145cd8494ba58048e2d62',\n",
       " '5f352b26e0c2493facb5fb835263bc1f',\n",
       " 'f262edbb219d42418f906080fe6e9228',\n",
       " 'a0c60e3ae086434bbe99b8a243d8e152',\n",
       " 'cbffb0ae1878406db746076c593aba84',\n",
       " '95144a3cd3fc43d5bfb5894a7b5c4906',\n",
       " '453274d80a8846e883d4f692bacffb63',\n",
       " '8f433bdc71604366b951b160d38aca9b',\n",
       " '624c3730de1a45f6b215e37396be9666',\n",
       " '611c0e9687cc4a279f57414faa3c84a1',\n",
       " 'bc5e9f9204cd4dddaa5fb90b3cf37f5e',\n",
       " '835fa3be2a7344ec8e87f4d9524f179a',\n",
       " '9d66090036e840edabe2589922577f74',\n",
       " 'e0d3f6f5a1de464cb8c8af3df7601236',\n",
       " '192f40fc09394e419374f38bdae5ba4e',\n",
       " '55dff3ba7f1a45379bee23a93efa35f0',\n",
       " '35a4cc3a959944edb863bdf661ae26a0',\n",
       " '245688bea89a4b62a13076410d9b2a36',\n",
       " '02a75d66fbf147479e3d3cd04b5f6e75',\n",
       " 'd5b7b7fc004f43979e01f83a5351a8a0',\n",
       " '3df8896bd73140eab95ecd0f34ff3872']"
      ]
     },
     "execution_count": 20,
     "metadata": {},
     "output_type": "execute_result"
    }
   ],
   "source": [
    "astra_vector_store.add_texts(texts)"
   ]
  },
  {
   "cell_type": "code",
   "execution_count": 22,
   "id": "96a59809-8fdf-416f-97a7-cf6e0a1a39ee",
   "metadata": {},
   "outputs": [],
   "source": [
    "astra_vector_index = VectorStoreIndexWrapper(vectorstore=astra_vector_store)"
   ]
  },
  {
   "cell_type": "markdown",
   "id": "c058999c-34d2-4245-b761-f0222dd9debd",
   "metadata": {},
   "source": [
    "### Query DB\n",
    "\n",
    "Sample Questions :\n",
    "\n",
    "* Which states reported the highest and lowest uninsured rates in 2022?\n",
    "* How did Medicaid expansion affect uninsured rates in expansion versus non-expansion states?\n",
    "* Which states had significant changes in private health insurance coverage from 2021 to 2022?\n",
    "* How did uninsured rates differ among the most populous metropolitan areas in 2022?"
   ]
  },
  {
   "cell_type": "code",
   "execution_count": 24,
   "id": "a6f47c11-566c-4030-a42d-8e19b108fc77",
   "metadata": {},
   "outputs": [
    {
     "name": "stdin",
     "output_type": "stream",
     "text": [
      "Enter your question or type 'Quit' to exit :  Which states had significant changes in private health insurance coverage from 2021 to 2022?\n"
     ]
    },
    {
     "name": "stdout",
     "output_type": "stream",
     "text": [
      "\n",
      "QUESTION :  Which states had significant changes in private health insurance coverage from 2021 to 2022?\n",
      "\n",
      "ANSWER :  Nine states had significant changes in private health insurance coverage from 2021 to 2022, with three reporting increases in both employer-sponsored and direct-purchase coverage, three reporting increases in direct-purchase coverage only, and two reporting decreases in private coverage. These states were Iowa, North Carolina, Texas, Florida, Kansas, Mississippi, Alabama, California, Georgia, Illinois, Indiana, Michigan, and Oklahoma.\n"
     ]
    },
    {
     "name": "stdin",
     "output_type": "stream",
     "text": [
      "Enter your next question or type 'Quit' to exit :  quit\n"
     ]
    }
   ],
   "source": [
    "first_question = True\n",
    "\n",
    "while True:\n",
    "    if first_question:\n",
    "        query_text = input(\"Enter your question or type 'Quit' to exit : \").strip()\n",
    "    else:\n",
    "        query_text = input(\"Enter your next question or type 'Quit' to exit : \").strip()\n",
    "\n",
    "    if query_text.lower() == \"quit\":\n",
    "        break\n",
    "\n",
    "    if query_text.lower() == \"\":\n",
    "        continue\n",
    "\n",
    "    first_question = False\n",
    "\n",
    "    print(\"\\nQUESTION : \", query_text)\n",
    "    answer = astra_vector_index.query(query_text, llm = llm).strip()\n",
    "    print(\"\\nANSWER : \", answer)"
   ]
  },
  {
   "cell_type": "code",
   "execution_count": 26,
   "id": "ce4eaf45-d93c-4269-aa24-6440b046db8c",
   "metadata": {},
   "outputs": [
    {
     "name": "stdout",
     "output_type": "stream",
     "text": [
      "\n",
      "score :  0.8647770461530339\n",
      "April 2022, < www.urban.org/sites/default/\n",
      "files/2022-04/Marketplace%20Premiums%20\n",
      "and%20Competition%202019-22.pdf >; ACA \n",
      "Marketplace Participation Tracker 2015–\n",
      "2023, Robert Wood Johnson Foundation, \n",
      "<www.rwjf.org/en/insights/our-research/\n",
      "interactives/aca-marketplace-participation-\n",
      "tracker.html >. Massachusetts implemented \n",
      "a state individual health insurance mandate \n",
      "starting in 2006.\n",
      "32 Caroline Davis, “San Francisco \n",
      "Bay Area: Regional Health Systems Vie \n",
      "for Market Share,” California Health \n",
      "Care Almanac , California Health Care \n",
      "Foundation, April 2021, < www.chcf.\n",
      "org/wp-content/uploads/2021/04/\n",
      "RegionalMarketAlmanac2020BayArea.pdf >.\n",
      "33 For more information, refer to Older \n",
      "Care Expansion at California Department \n",
      "of Health Care Services at < www.dhcs.\n",
      "\n",
      "score :  0.8641347998186005\n",
      "(based on CMS data), and many \n",
      "states with increases in employer-\n",
      "based coverage had decreases in \n",
      "unemployment rates.24\n",
      "For the seven states with declines \n",
      "in private coverage rates, two \n",
      "experienced decreases in \n",
      "employer-sponsored coverage \n",
      "(Appendix Table B-2). Decreases \n",
      "in direct-purchase coverage \n",
      "were also seen in Minnesota (0.5 \n",
      "23 In January 2021, an executive order \n",
      "extended a special enrollment period to \n",
      "sign up for Marketplace coverage, continued \n",
      "and expanded through 2022. Kaiser Family \n",
      "Foundation, “Marketplace Enrollment \n",
      "2014–2023,” based on analysis of Centers for \n",
      "and Medicare Marketplace Open Enrollment \n",
      "Period Public Use Files. Refer to < www.\n",
      "cms.gov/files/document/health-insurance-\n",
      "exchanges-2022-open-enrollment-report-\n",
      "final.pdf >, <www.kff.org/health-reform/\n",
      "\n",
      "score :  0.8638746083573929\n",
      "Worth-Arlington, TX (1.0 percentage \n",
      "points); Denver-Aurora-Lakewood, CO \n",
      "(1.4 percentage points); Houston-The \n",
      "Woodlands-Sugar Land, TX (1.3 percentage \n",
      "points); and Orlando-Kissimmee-Sanford, FL \n",
      "(1.4 percentage points), were not statistically \n",
      "different from the change in Charlotte-\n",
      "Concord-Gastonia, NC-SC.10 U.S. Census Bureau\n",
      "SUMMARY\n",
      "The uninsured rate fell in 27 states \n",
      "(mainly states that had expanded \n",
      "Medicaid eligibility), while only \n",
      "Maine had an increase of 0.8 \n",
      "percentage points. Only one state \n",
      "saw a decrease in public coverage \n",
      "(Rhode Island), while seven states \n",
      "experienced decreases in private \n",
      "coverage. As groups, states that \n",
      "expanded Medicaid eligibility saw \n",
      "an increase in public coverage, \n",
      "while states that did not expand \n",
      "Medicaid eligibility saw an increase\n"
     ]
    }
   ],
   "source": [
    "### Documents by relevance score\n",
    "\n",
    "for doc, score in astra_vector_store.similarity_search_with_score(query_text, k=3):\n",
    "    print(\"\\nscore : \", score)\n",
    "    print(doc.page_content)"
   ]
  },
  {
   "cell_type": "code",
   "execution_count": null,
   "id": "b83d35b0-55a3-41fe-a9c3-130db5b32b28",
   "metadata": {},
   "outputs": [],
   "source": []
  }
 ],
 "metadata": {
  "kernelspec": {
   "display_name": "langchain",
   "language": "python",
   "name": "langchain"
  },
  "language_info": {
   "codemirror_mode": {
    "name": "ipython",
    "version": 3
   },
   "file_extension": ".py",
   "mimetype": "text/x-python",
   "name": "python",
   "nbconvert_exporter": "python",
   "pygments_lexer": "ipython3",
   "version": "3.10.16"
  }
 },
 "nbformat": 4,
 "nbformat_minor": 5
}
